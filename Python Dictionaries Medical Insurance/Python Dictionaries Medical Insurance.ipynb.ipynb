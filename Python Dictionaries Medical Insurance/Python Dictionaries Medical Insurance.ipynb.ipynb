{
 "cells": [
  {
   "cell_type": "code",
   "execution_count": 3,
   "id": "e6df17a2",
   "metadata": {},
   "outputs": [],
   "source": [
    "medical_costs= {}"
   ]
  },
  {
   "cell_type": "code",
   "execution_count": 5,
   "id": "dec12f6a",
   "metadata": {},
   "outputs": [],
   "source": [
    "medical_costs['Marina']= 6607.0\n",
    "medical_costs['Vinay']= 3225.0"
   ]
  },
  {
   "cell_type": "code",
   "execution_count": 7,
   "id": "015d4658",
   "metadata": {},
   "outputs": [],
   "source": [
    "medical_costs.update({'Connie': 8886.0, 'Issac': 16444.0, 'Valentina': 6420.0})"
   ]
  },
  {
   "cell_type": "code",
   "execution_count": 9,
   "id": "8b58435b",
   "metadata": {},
   "outputs": [
    {
     "name": "stdout",
     "output_type": "stream",
     "text": [
      "{'Marina': 6607.0, 'Vinay': 3225.0, 'Connie': 8886.0, 'Issac': 16444.0, 'Valentina': 6420.0}\n"
     ]
    }
   ],
   "source": [
    "print(medical_costs)"
   ]
  },
  {
   "cell_type": "code",
   "execution_count": 13,
   "id": "8b484f83",
   "metadata": {},
   "outputs": [
    {
     "name": "stdout",
     "output_type": "stream",
     "text": [
      "{'Marina': 6607.0, 'Vinay': 3325.0, 'Connie': 8886.0, 'Issac': 16444.0, 'Valentina': 6420.0}\n"
     ]
    }
   ],
   "source": [
    "medical_costs['Vinay']= 3325.0\n",
    "print(medical_costs)"
   ]
  },
  {
   "cell_type": "code",
   "execution_count": 19,
   "id": "ef636a71",
   "metadata": {},
   "outputs": [],
   "source": [
    "total_cost= 0\n",
    "for cost in medical_costs:\n",
    "    total_cost+= medical_costs[cost]"
   ]
  },
  {
   "cell_type": "code",
   "execution_count": 21,
   "id": "a6d83515",
   "metadata": {},
   "outputs": [
    {
     "name": "stdout",
     "output_type": "stream",
     "text": [
      "Average Insurance Cost:8336.4\n"
     ]
    }
   ],
   "source": [
    "# calculate average cost:\n",
    "average_cost= total_cost/len(medical_costs)\n",
    "print('Average Insurance Cost:{average_cost}'.format(average_cost=average_cost))"
   ]
  },
  {
   "cell_type": "code",
   "execution_count": 23,
   "id": "88db2876",
   "metadata": {},
   "outputs": [],
   "source": [
    "names= ['Marina', 'Vinay', 'Connie', 'Isaac', 'Valentina']\n",
    "ages= [27, 24, 43, 35, 52]"
   ]
  },
  {
   "cell_type": "code",
   "execution_count": 35,
   "id": "eddb66ba",
   "metadata": {},
   "outputs": [],
   "source": [
    "zipped_ages= zip(names, ages)\n"
   ]
  },
  {
   "cell_type": "code",
   "execution_count": 37,
   "id": "dc760b49",
   "metadata": {},
   "outputs": [
    {
     "name": "stdout",
     "output_type": "stream",
     "text": [
      "{'Marina': 27, 'Vinay': 24, 'Connie': 43, 'Isaac': 35, 'Valentina': 52}\n"
     ]
    }
   ],
   "source": [
    "# Turn each pair in the list into key:value items:\n",
    "names_to_ages= {key: value for key, value in zipped_ages}\n",
    "print(names_to_ages)"
   ]
  },
  {
   "cell_type": "code",
   "execution_count": 39,
   "id": "a7c9e288",
   "metadata": {},
   "outputs": [
    {
     "name": "stdout",
     "output_type": "stream",
     "text": [
      "27\n"
     ]
    }
   ],
   "source": [
    "marina_age= names_to_ages.get('Marina', None)\n",
    "print(marina_age)"
   ]
  },
  {
   "cell_type": "code",
   "execution_count": 41,
   "id": "768401f1",
   "metadata": {},
   "outputs": [],
   "source": [
    "medical_records= {}"
   ]
  },
  {
   "cell_type": "code",
   "execution_count": 43,
   "id": "5f4a0390",
   "metadata": {},
   "outputs": [],
   "source": [
    "medical_records['Marina']= {\"Age\": 27, \"Sex\": \"Female\", \"BMI\": 31.1, \"Children\": 2, \"Smoker\": \"Non-smoker\", \"Insurance_cost\": 6607.0}"
   ]
  },
  {
   "cell_type": "code",
   "execution_count": 63,
   "id": "55de66f6",
   "metadata": {},
   "outputs": [],
   "source": [
    "medical_records['Vinay']= {\"Age\": 24, \"Sex\": \"Male\", \"BMI\": 26.9, \"Children\": 0, \"Smoker\": \"Non-smoker\", \"Insurance_cost\": 3225.0}\n",
    "medical_records['Connie']= {\"Age\": 43, \"Sex\": \"Female\", \"BMI\": 25.3, \"Children\": 3, \"Smoker\": \"Non-smoker\", \"Insurance_cost\": 8886.0}\n",
    "medical_records['Isaac']= {\"Age\": 35, \"Sex\": \"Male\", \"BMI\": 20.6, \"Children\": 4, \"Smoker\": \"Smoker\", \"Insurance_cost\": 16444.0}\n",
    "medical_records['Valentina']= {\"Age\": 52, \"Sex\": \"Female\", \"BMI\": 18.7, \"Children\": 1, \"Smoker\": \"Non-smoker\", \"Insurance_cost\": 6420.0}"
   ]
  },
  {
   "cell_type": "code",
   "execution_count": 65,
   "id": "88c952f7",
   "metadata": {},
   "outputs": [
    {
     "name": "stdout",
     "output_type": "stream",
     "text": [
      "{'Marina': {'Age': 27, 'Sex': 'Female', 'BMI': 31.1, 'Children': 2, 'Smoker': 'Non-smoker', 'Insurance_cost': 6607.0}, 'Connie': {'Age': 43, 'Sex': 'Female', 'BMI': 25.3, 'Children': 3, 'Smoker': 'Non-smoker', 'Insurance_cost': 8886.0}, 'Isaac': {'Age': 35, 'Sex': 'Male', 'BMI': 20.6, 'Children': 4, 'Smoker': 'Smoker', 'Insurance_cost': 16444.0}, 'Valentina': {'Age': 52, 'Sex': 'Female', 'BMI': 18.7, 'Children': 1, 'Smoker': 'Non-smoker', 'Insurance_cost': 6420.0}, 'Vinay': {'Age': 24, 'Sex': 'Male', 'BMI': 26.9, 'Children': 0, 'Smoker': 'Non-smoker', 'Insurance_cost': 3225.0}}\n"
     ]
    }
   ],
   "source": [
    "print(medical_records)"
   ]
  },
  {
   "cell_type": "code",
   "execution_count": 67,
   "id": "2eb86872",
   "metadata": {},
   "outputs": [
    {
     "name": "stdout",
     "output_type": "stream",
     "text": [
      "Connie's insurance cost is 8886.0 Dollars\n"
     ]
    }
   ],
   "source": [
    "print(\"Connie's insurance cost is \"+ str(medical_records['Connie']['Insurance_cost'])+ \" Dollars\")"
   ]
  },
  {
   "cell_type": "code",
   "execution_count": 69,
   "id": "eeeb5b8d",
   "metadata": {},
   "outputs": [
    {
     "data": {
      "text/plain": [
       "{'Age': 24,\n",
       " 'Sex': 'Male',\n",
       " 'BMI': 26.9,\n",
       " 'Children': 0,\n",
       " 'Smoker': 'Non-smoker',\n",
       " 'Insurance_cost': 3225.0}"
      ]
     },
     "execution_count": 69,
     "metadata": {},
     "output_type": "execute_result"
    }
   ],
   "source": [
    "medical_records.pop('Vinay')"
   ]
  },
  {
   "cell_type": "code",
   "execution_count": 83,
   "id": "39301cd2",
   "metadata": {},
   "outputs": [
    {
     "name": "stdout",
     "output_type": "stream",
     "text": [
      "Marina is a 27 year old Female Non-smoker with a BMI of 31.1 and insurance cost of 6607.0\n",
      "Connie is a 43 year old Female Non-smoker with a BMI of 25.3 and insurance cost of 8886.0\n",
      "Isaac is a 35 year old Male Smoker with a BMI of 20.6 and insurance cost of 16444.0\n",
      "Valentina is a 52 year old Female Non-smoker with a BMI of 18.7 and insurance cost of 6420.0\n"
     ]
    }
   ],
   "source": [
    "# Iterate through medical records and display formatted information:\n",
    "for name, info in medical_records.items():\n",
    "    print(\"{Name} is a {Age} year old {Sex} {Smoker} with a BMI of {BMI} and insurance cost of {Insurance_cost}\".format(\n",
    "        Name= name,\n",
    "        Age= info['Age'],\n",
    "        Sex=info['Sex'],\n",
    "        Smoker=info['Smoker'],\n",
    "        BMI=info['BMI'],\n",
    "        Insurance_cost=info['Insurance_cost']\n",
    "    ))"
   ]
  },
  {
   "cell_type": "code",
   "execution_count": 85,
   "id": "ac494987",
   "metadata": {},
   "outputs": [
    {
     "name": "stdout",
     "output_type": "stream",
     "text": [
      "Updated record for Marina.\n",
      "{'Age': 28, 'Sex': 'Female', 'BMI': 30.5, 'Children': 2, 'Smoker': 'Non-smoker', 'Insurance_cost': 6607.0}\n"
     ]
    }
   ],
   "source": [
    "# Iterate through medical records and update its information\n",
    "def update_medical_records(name, new_data):\n",
    "    if name in medical_records:\n",
    "        medical_records[name].update(new_data)\n",
    "        print(f\"Updated record for {name}.\")\n",
    "    else:\n",
    "        print(f\"Error: {name} not found in medical records.\")\n",
    "update_medical_records(\"Marina\", {\"Age\": 28, \"BMI\": 30.5})\n",
    "print(medical_records[\"Marina\"])"
   ]
  },
  {
   "cell_type": "code",
   "execution_count": 87,
   "id": "4195bad7",
   "metadata": {},
   "outputs": [
    {
     "name": "stdout",
     "output_type": "stream",
     "text": [
      "{'Marina': 'High Risk', 'Connie': 'Low Risk', 'Isaac': 'High Risk', 'Valentina': 'Low Risk'}\n"
     ]
    }
   ],
   "source": [
    "# a dictionary with individuals and their health risk levels\n",
    "health_risks = {}\n",
    "\n",
    "for name, data in medical_records.items():\n",
    "    if data['BMI'] >= 30 or data['Smoker'] == 'Smoker':\n",
    "        health_risks[name] = 'High Risk'\n",
    "    else:\n",
    "        health_risks[name] = 'Low Risk'\n",
    "\n",
    "print(health_risks)"
   ]
  }
 ],
 "metadata": {
  "kernelspec": {
   "display_name": "Python 3 (ipykernel)",
   "language": "python",
   "name": "python3"
  },
  "language_info": {
   "codemirror_mode": {
    "name": "ipython",
    "version": 3
   },
   "file_extension": ".py",
   "mimetype": "text/x-python",
   "name": "python",
   "nbconvert_exporter": "python",
   "pygments_lexer": "ipython3",
   "version": "3.12.7"
  }
 },
 "nbformat": 4,
 "nbformat_minor": 5
}
